{
  "cells": [
    {
      "cell_type": "markdown",
      "metadata": {
        "id": "MKPOUkea_VRk"
      },
      "source": [
        "## Mount google drive"
      ]
    },
    {
      "cell_type": "code",
      "execution_count": 1,
      "metadata": {
        "colab": {
          "base_uri": "https://localhost:8080/"
        },
        "id": "Yh7bST1-TbrW",
        "outputId": "7c5b5d4d-8c0f-403f-82a0-f0dc4a9b7d61"
      },
      "outputs": [
        {
          "output_type": "stream",
          "name": "stdout",
          "text": [
            "Mounted at /content/drive\n"
          ]
        }
      ],
      "source": [
        "from google.colab import drive\n",
        "drive.mount('/content/drive')"
      ]
    },
    {
      "cell_type": "markdown",
      "metadata": {
        "id": "ivnfcxIB_dre"
      },
      "source": [
        "Set ClientID, Client Secret and Project_ID\n",
        "\n",
        "How to get?\n",
        "1. Navigate to https://console.developers.google.com/\n",
        "2. Create a google cloud project (if not already created)\n",
        "3. Goto **\"APIs and Services\"** then **\"credintials\"**\n",
        "4. Create new Credientials. Select **\"OAuth 2.0 client\"** select type as **\"Desktop app\"** \n",
        "5. After successfully creating, copy the **ClientID** and **Client Secret** into the variables declared below.\n",
        "\n",
        "\n",
        "\n"
      ]
    },
    {
      "cell_type": "markdown",
      "metadata": {
        "id": "J0oAxYk2Cbzc"
      },
      "source": [
        "Make sure you have a folder named **\"YT_Upload\"** in google drive home directory.\n",
        "\n",
        "And you have the file to upload to youtube in that directory."
      ]
    },
    {
      "cell_type": "code",
      "execution_count": 2,
      "metadata": {
        "id": "zCRQKMV7N-xh"
      },
      "outputs": [],
      "source": [
        "# Set video file name (saved in the YT_Upload folder)\n",
        "fileName = \"Copy of 01-Logarithm-04.mp4\"\n",
        "\n",
        "# Set YT video Title below\n",
        "titleText= \"01-Logarithm-04\"\n",
        "\n",
        "# Set YT video description below\n",
        "descText = \"Logarithm\"\n",
        "\n",
        "# Set YT video kewords below\n",
        "keywords = \"#IIT #JEE #Maths\""
      ]
    },
    {
      "cell_type": "code",
      "source": [
        "!  pip install --upgrade google-api-python-client google-auth-httplib2 google-auth-oauthlib"
      ],
      "metadata": {
        "id": "V135WcHZ9EzF"
      },
      "execution_count": null,
      "outputs": []
    },
    {
      "cell_type": "markdown",
      "metadata": {
        "id": "mBZ3L4uyGXGG"
      },
      "source": [
        "## Check if file is there or not"
      ]
    },
    {
      "cell_type": "code",
      "execution_count": null,
      "metadata": {
        "id": "Mlpen08VDoKP"
      },
      "outputs": [],
      "source": [
        "fullFileName = \"/content/drive/MyDrive/YT_Upload/\"+fileName\n",
        "!find \"$fullFileName\""
      ]
    },
    {
      "cell_type": "markdown",
      "metadata": {
        "id": "wUiOOiA7Gpd4"
      },
      "source": [
        "# Run the all the remaining code \n",
        "Do not change anything after this"
      ]
    },
    {
      "cell_type": "code",
      "execution_count": null,
      "metadata": {
        "id": "i_SZtnizaZbL"
      },
      "outputs": [],
      "source": [
        "!git clone https://github.com/hello-arun/drive-to-yt.git"
      ]
    },
    {
      "cell_type": "code",
      "execution_count": null,
      "metadata": {
        "id": "bsqjxLHzG3Km"
      },
      "outputs": [],
      "source": [
        "cd \"drive-to-yt\""
      ]
    },
    {
      "cell_type": "markdown",
      "metadata": {
        "id": "HdxsLK38DvhC"
      },
      "source": [
        "For more settings and customization parameters check:\n",
        "\n",
        "https://developers.google.com/youtube/v3/guides/uploading_a_video"
      ]
    },
    {
      "cell_type": "code",
      "execution_count": null,
      "metadata": {
        "id": "X9b1usIaZiZP"
      },
      "outputs": [],
      "source": [
        "! python upload_video.py --file=\"/content/drive/MyDrive/YT_Upload/$fileName\" --title=\"$titleText\" --description=\"$descText\" --keywords=\"$keywords\" --category=\"22\" --privacyStatus=\"private\""
      ]
    },
    {
      "cell_type": "markdown",
      "metadata": {
        "id": "2dPz_HAtHCS7"
      },
      "source": [
        "After Running the above command your video file should be uploaded to your YouTube channel.\n",
        "\n",
        "if any problem please raise an issue on github\n",
        "\n",
        "# THANK YOU"
      ]
    }
  ],
  "metadata": {
    "colab": {
      "collapsed_sections": [],
      "provenance": []
    },
    "kernelspec": {
      "display_name": "Python 3",
      "name": "python3"
    },
    "language_info": {
      "name": "python"
    }
  },
  "nbformat": 4,
  "nbformat_minor": 0
}